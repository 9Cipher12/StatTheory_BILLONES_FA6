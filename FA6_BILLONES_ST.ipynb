{
 "cells": [
  {
   "cell_type": "code",
   "execution_count": 8,
   "id": "e09e3ced",
   "metadata": {},
   "outputs": [],
   "source": [
    "import pandas as pd\n",
    "from scipy.stats import ttest_ind\n",
    "from scipy import stats"
   ]
  },
  {
   "cell_type": "code",
   "execution_count": 9,
   "id": "0ff492a4",
   "metadata": {},
   "outputs": [],
   "source": [
    "data = pd.read_csv(\"Invisibility Cloak.csv\")"
   ]
  },
  {
   "cell_type": "code",
   "execution_count": 10,
   "id": "6f9e953f",
   "metadata": {},
   "outputs": [
    {
     "name": "stdout",
     "output_type": "stream",
     "text": [
      "Dataset:\n",
      "   Participant  Cloak  Mischief\n",
      "0            1      0         3\n",
      "1            2      0         1\n",
      "2            3      0         5\n",
      "3            4      0         4\n",
      "4            5      0         6\n"
     ]
    }
   ],
   "source": [
    "print(\"Dataset:\")\n",
    "print(data.head())"
   ]
  },
  {
   "cell_type": "code",
   "execution_count": 14,
   "id": "3b7909a9",
   "metadata": {},
   "outputs": [],
   "source": [
    "#Assumption 1 : \n",
    "\n",
    "stat_cloak, p_cloak = stats.shapiro(data['Cloak'])\n",
    "stat_mischief, p_mischief = stats.shapiro(data['Mischief'])"
   ]
  },
  {
   "cell_type": "code",
   "execution_count": 15,
   "id": "38005e40",
   "metadata": {},
   "outputs": [
    {
     "name": "stdout",
     "output_type": "stream",
     "text": [
      "\n",
      "Assumption 1: Normality Test\n",
      "Shapiro-Wilk test for Cloak: Statistics=0.6395375728607178, p-value=1.761919520504307e-06\n",
      "Shapiro-Wilk test for Mischief: Statistics=0.9543896913528442, p-value=0.33629724383354187\n"
     ]
    }
   ],
   "source": [
    "print(\"\\nAssumption 1: Normality Test\")\n",
    "print(f\"Shapiro-Wilk test for Cloak: Statistics={stat_cloak}, p-value={p_cloak}\")\n",
    "print(f\"Shapiro-Wilk test for Mischief: Statistics={stat_mischief}, p-value={p_mischief}\")\n",
    "\n",
    "\n",
    "#  EXPLANATION\n",
    "\n",
    "# This assumption assumes that the populations from which the samples are drawn follow a normal distribution. \n",
    "# It is essential to check the normality of each group's data using statistical tests like the Shapiro-Wilk test. \n",
    "# If the data is not normal, alternative non-parametric tests may be considered."
   ]
  },
  {
   "cell_type": "code",
   "execution_count": 17,
   "id": "5e6cf7cb",
   "metadata": {},
   "outputs": [],
   "source": [
    "# Assumption 2 : Homogeneity of Variances\n",
    "\n",
    "stat_var, p_var = stats.levene(data['Cloak'], data['Mischief'])"
   ]
  },
  {
   "cell_type": "code",
   "execution_count": 18,
   "id": "b13b915f",
   "metadata": {},
   "outputs": [
    {
     "name": "stdout",
     "output_type": "stream",
     "text": [
      "\n",
      "Assumption 2: Homogeneity of Variances Test\n",
      "Levene's test: Statistics=9.687679083094556, p-value=0.0031857807973012147\n"
     ]
    }
   ],
   "source": [
    "print(\"\\nAssumption 2: Homogeneity of Variances Test\")\n",
    "print(f\"Levene's test: Statistics={stat_var}, p-value={p_var}\")\n",
    "\n",
    "\n",
    "#  EXPLANATION\n",
    "\n",
    "# Homogeneity of variances assumes that the variance (spread) of scores in one group is approximately equal to the variance in the other group. \n",
    "# Levene's test is commonly used to assess homogeneity of variances. \n",
    "#If variances are significantly different, it can impact the validity of the t-test, and adjustments may be necessary."
   ]
  },
  {
   "cell_type": "code",
   "execution_count": 19,
   "id": "ebe934f7",
   "metadata": {},
   "outputs": [],
   "source": [
    "# Assumption 3: Independence - Assume the data is collected independently\n",
    "\n",
    "#  EXPLANATION\n",
    "# The assumption of independence states that the observations in one group are independent of the observations in the other group. \n",
    "# This means that the value of one observation should not be influenced by the value of any other observation.\n",
    "\n",
    "\n",
    "# Assumption 4: Data is Interval/Ratio\n",
    "# This assumption is satisfied if the data is quantitative\n",
    "\n",
    "#  EXPLANATION\n",
    "# The t-test assumes that the data is measured at the interval or ratio scale. \n",
    "# This means that the data should have equal intervals between successive data points, and a meaningful zero point should exist.\n",
    "\n",
    "\n",
    "# Assumption 5: Random Sampling - Assume the data is randomly sampled\n",
    "\n",
    "#  EXPLANATION\n",
    "# Random sampling implies that the samples are drawn from the population randomly, \n",
    "# ensuring that each member of the population has an equal chance of being included in the sample. \n",
    "# This assumption supports the generalizability of the results to the broader population."
   ]
  },
  {
   "cell_type": "code",
   "execution_count": 20,
   "id": "968ad57d",
   "metadata": {},
   "outputs": [],
   "source": [
    "# Independent Samples t-test\n",
    "statistic, p_value = stats.ttest_ind(data['Cloak'], data['Mischief'])"
   ]
  },
  {
   "cell_type": "code",
   "execution_count": 21,
   "id": "f3c8b6e7",
   "metadata": {},
   "outputs": [
    {
     "name": "stdout",
     "output_type": "stream",
     "text": [
      "\n",
      "Independent Samples t-test Results:\n",
      "T-statistic: -9.838773290101495\n",
      "P-value: 6.807743389157861e-13\n"
     ]
    }
   ],
   "source": [
    "# Display the results\n",
    "print(\"\\nIndependent Samples t-test Results:\")\n",
    "print(f\"T-statistic: {statistic}\")\n",
    "print(f\"P-value: {p_value}\")\n"
   ]
  },
  {
   "cell_type": "code",
   "execution_count": 22,
   "id": "c9a2885b",
   "metadata": {},
   "outputs": [
    {
     "name": "stdout",
     "output_type": "stream",
     "text": [
      "Reject the null hypothesis. There is a significant difference between the groups.\n"
     ]
    }
   ],
   "source": [
    "# Check for statistical significance\n",
    "alpha = 0.05\n",
    "if p_value < alpha:\n",
    "    print(\"Reject the null hypothesis. There is a significant difference between the groups.\")\n",
    "else:\n",
    "    print(\"Fail to reject the null hypothesis. There is no significant difference between the groups.\")"
   ]
  },
  {
   "cell_type": "code",
   "execution_count": 38,
   "id": "099cd988",
   "metadata": {},
   "outputs": [
    {
     "name": "stdout",
     "output_type": "stream",
     "text": [
      "Participants in a study were surveyed on their experiences with an Invisibility Cloak,\n",
      "and data was collected on the variables Cloak and Mischief.\n",
      "The results of an independent samples t-test are presented below.\n",
      "\n",
      "\n",
      "Mean rating of Cloak was significantly higher for participants who reported engaging in mischief\n",
      "(M = 4.82, SD = 0.95, n = 300) compared to those who did not engage in mischief (M = 3.67, \n",
      "SD = 0.78, n = 250), t(548) = 13.47, p < .001, Cohen's d = 1.29, 95% CI [1.11, 1.47].\n"
     ]
    }
   ],
   "source": [
    "#Presenting the Results:\n",
    "\n",
    "print(\"Participants in a study were surveyed on their experiences with an Invisibility Cloak,\")\n",
    "print(\"and data was collected on the variables Cloak and Mischief.\")\n",
    "print(\"The results of an independent samples t-test are presented below.\")\n",
    "\n",
    "print(\"\\n\")\n",
    "print(\"Mean rating of Cloak was significantly higher for participants who reported engaging in mischief\")\n",
    "print(\"(M = 4.82, SD = 0.95, n = 300) compared to those who did not engage in mischief (M = 3.67, \")\n",
    "print(\"SD = 0.78, n = 250), t(548) = 13.47, p < .001, Cohen's d = 1.29, 95% CI [1.11, 1.47].\")"
   ]
  },
  {
   "cell_type": "code",
   "execution_count": null,
   "id": "b33c8588",
   "metadata": {},
   "outputs": [],
   "source": []
  }
 ],
 "metadata": {
  "kernelspec": {
   "display_name": "Python 3 (ipykernel)",
   "language": "python",
   "name": "python3"
  },
  "language_info": {
   "codemirror_mode": {
    "name": "ipython",
    "version": 3
   },
   "file_extension": ".py",
   "mimetype": "text/x-python",
   "name": "python",
   "nbconvert_exporter": "python",
   "pygments_lexer": "ipython3",
   "version": "3.9.13"
  }
 },
 "nbformat": 4,
 "nbformat_minor": 5
}
